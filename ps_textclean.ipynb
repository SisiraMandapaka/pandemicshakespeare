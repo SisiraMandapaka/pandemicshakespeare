{
 "cells": [
  {
   "cell_type": "code",
   "execution_count": 1,
   "id": "moving-manual",
   "metadata": {},
   "outputs": [],
   "source": [
    "import nltk\n",
    "import pandas as pd\n",
    "\n",
    "annotations_df = pd.read_csv('ps_dataset1_cleaned.csv')"
   ]
  },
  {
   "cell_type": "code",
   "execution_count": 2,
   "id": "spatial-mortality",
   "metadata": {},
   "outputs": [
    {
     "data": {
      "text/html": [
       "<div>\n",
       "<style scoped>\n",
       "    .dataframe tbody tr th:only-of-type {\n",
       "        vertical-align: middle;\n",
       "    }\n",
       "\n",
       "    .dataframe tbody tr th {\n",
       "        vertical-align: top;\n",
       "    }\n",
       "\n",
       "    .dataframe thead th {\n",
       "        text-align: right;\n",
       "    }\n",
       "</style>\n",
       "<table border=\"1\" class=\"dataframe\">\n",
       "  <thead>\n",
       "    <tr style=\"text-align: right;\">\n",
       "      <th></th>\n",
       "      <th>annotation_text</th>\n",
       "      <th>annotated_quote</th>\n",
       "      <th>annotation_location</th>\n",
       "      <th>category</th>\n",
       "    </tr>\n",
       "  </thead>\n",
       "  <tbody>\n",
       "    <tr>\n",
       "      <th>0</th>\n",
       "      <td>Hermione providing aid to her King and husband...</td>\n",
       "      <td>Tongue-tied, our queen?\\n  Speak you.</td>\n",
       "      <td>Act 1 Scene 2</td>\n",
       "      <td>Gender</td>\n",
       "    </tr>\n",
       "    <tr>\n",
       "      <th>1</th>\n",
       "      <td>Everyone is playing, but Leontes is the only o...</td>\n",
       "      <td>Go play, boy, play. Thy mother plays, and I \\n...</td>\n",
       "      <td>Act 1 Scene 2</td>\n",
       "      <td>None</td>\n",
       "    </tr>\n",
       "    <tr>\n",
       "      <th>2</th>\n",
       "      <td>I thought it was strange how Leontes asks Mami...</td>\n",
       "      <td>Mamillius,\\n  Art thou my boy?</td>\n",
       "      <td>Act 1 Scene 2</td>\n",
       "      <td>Class</td>\n",
       "    </tr>\n",
       "    <tr>\n",
       "      <th>3</th>\n",
       "      <td>It's the giving of hands that leads to the pla...</td>\n",
       "      <td>Give me that hand of yours to kiss.</td>\n",
       "      <td>Act 5 Scene 3</td>\n",
       "      <td>Class</td>\n",
       "    </tr>\n",
       "    <tr>\n",
       "      <th>4</th>\n",
       "      <td>I think this line is very important. Leontes i...</td>\n",
       "      <td>You kill her double</td>\n",
       "      <td>Act 5 Scene 3</td>\n",
       "      <td>Gender</td>\n",
       "    </tr>\n",
       "  </tbody>\n",
       "</table>\n",
       "</div>"
      ],
      "text/plain": [
       "                                     annotation_text  \\\n",
       "0  Hermione providing aid to her King and husband...   \n",
       "1  Everyone is playing, but Leontes is the only o...   \n",
       "2  I thought it was strange how Leontes asks Mami...   \n",
       "3  It's the giving of hands that leads to the pla...   \n",
       "4  I think this line is very important. Leontes i...   \n",
       "\n",
       "                                     annotated_quote annotation_location  \\\n",
       "0              Tongue-tied, our queen?\\n  Speak you.       Act 1 Scene 2   \n",
       "1  Go play, boy, play. Thy mother plays, and I \\n...       Act 1 Scene 2   \n",
       "2                     Mamillius,\\n  Art thou my boy?       Act 1 Scene 2   \n",
       "3                Give me that hand of yours to kiss.       Act 5 Scene 3   \n",
       "4                                You kill her double       Act 5 Scene 3   \n",
       "\n",
       "  category  \n",
       "0   Gender  \n",
       "1     None  \n",
       "2    Class  \n",
       "3    Class  \n",
       "4   Gender  "
      ]
     },
     "execution_count": 2,
     "metadata": {},
     "output_type": "execute_result"
    }
   ],
   "source": [
    "annotations_df.head()"
   ]
  },
  {
   "cell_type": "code",
   "execution_count": 3,
   "id": "accompanied-nepal",
   "metadata": {},
   "outputs": [],
   "source": [
    "annotations = annotations_df[\"annotation_text\"][0]"
   ]
  },
  {
   "cell_type": "code",
   "execution_count": 4,
   "id": "inner-skating",
   "metadata": {},
   "outputs": [
    {
     "name": "stdout",
     "output_type": "stream",
     "text": [
      "['Hermione', 'providing', 'aid', 'to', 'her', 'King', 'and', 'husband', ',', 'almost', 'used', 'as', 'an', 'accessory', '.']\n"
     ]
    }
   ],
   "source": [
    "# split into words\n",
    "from nltk.tokenize import word_tokenize\n",
    "annotation_tokens = word_tokenize(annotations)\n",
    "print(annotation_tokens[:100])"
   ]
  },
  {
   "cell_type": "code",
   "execution_count": 5,
   "id": "common-lighting",
   "metadata": {},
   "outputs": [
    {
     "name": "stdout",
     "output_type": "stream",
     "text": [
      "['Hermione', 'providing', 'aid', 'to', 'her', 'King', 'and', 'husband', 'almost', 'used', 'as', 'an', 'accessory']\n"
     ]
    }
   ],
   "source": [
    "# remove all tokens that are not alphabetic\n",
    "words = [word for word in annotation_tokens if word.isalpha()]\n",
    "print(words[:100])"
   ]
  },
  {
   "cell_type": "code",
   "execution_count": 6,
   "id": "responsible-bowling",
   "metadata": {},
   "outputs": [
    {
     "name": "stdout",
     "output_type": "stream",
     "text": [
      "['i', 'me', 'my', 'myself', 'we', 'our', 'ours', 'ourselves', 'you', \"you're\", \"you've\", \"you'll\", \"you'd\", 'your', 'yours', 'yourself', 'yourselves', 'he', 'him', 'his', 'himself', 'she', \"she's\", 'her', 'hers', 'herself', 'it', \"it's\", 'its', 'itself', 'they', 'them', 'their', 'theirs', 'themselves', 'what', 'which', 'who', 'whom', 'this', 'that', \"that'll\", 'these', 'those', 'am', 'is', 'are', 'was', 'were', 'be', 'been', 'being', 'have', 'has', 'had', 'having', 'do', 'does', 'did', 'doing', 'a', 'an', 'the', 'and', 'but', 'if', 'or', 'because', 'as', 'until', 'while', 'of', 'at', 'by', 'for', 'with', 'about', 'against', 'between', 'into', 'through', 'during', 'before', 'after', 'above', 'below', 'to', 'from', 'up', 'down', 'in', 'out', 'on', 'off', 'over', 'under', 'again', 'further', 'then', 'once', 'here', 'there', 'when', 'where', 'why', 'how', 'all', 'any', 'both', 'each', 'few', 'more', 'most', 'other', 'some', 'such', 'no', 'nor', 'not', 'only', 'own', 'same', 'so', 'than', 'too', 'very', 's', 't', 'can', 'will', 'just', 'don', \"don't\", 'should', \"should've\", 'now', 'd', 'll', 'm', 'o', 're', 've', 'y', 'ain', 'aren', \"aren't\", 'couldn', \"couldn't\", 'didn', \"didn't\", 'doesn', \"doesn't\", 'hadn', \"hadn't\", 'hasn', \"hasn't\", 'haven', \"haven't\", 'isn', \"isn't\", 'ma', 'mightn', \"mightn't\", 'mustn', \"mustn't\", 'needn', \"needn't\", 'shan', \"shan't\", 'shouldn', \"shouldn't\", 'wasn', \"wasn't\", 'weren', \"weren't\", 'won', \"won't\", 'wouldn', \"wouldn't\"]\n"
     ]
    }
   ],
   "source": [
    "from nltk.corpus import stopwords\n",
    "stop_words = stopwords.words('english')\n",
    "print(stop_words)"
   ]
  },
  {
   "cell_type": "code",
   "execution_count": 7,
   "id": "furnished-pledge",
   "metadata": {},
   "outputs": [
    {
     "name": "stdout",
     "output_type": "stream",
     "text": [
      "['hermione', 'providing', 'aid', 'king', 'husband', 'almost', 'used', 'accessory']\n"
     ]
    }
   ],
   "source": [
    "# convert to lower case\n",
    "annotation_tokens = [w.lower() for w in annotation_tokens]\n",
    "# remove punctuation from each word\n",
    "import string\n",
    "table = str.maketrans('', '', string.punctuation)\n",
    "stripped = [w.translate(table) for w in annotation_tokens]\n",
    "# remove remaining tokens that are not alphabetic\n",
    "words = [word for word in stripped if word.isalpha()]\n",
    "# filter out stop words\n",
    "words = [w for w in words if not w in stop_words]\n",
    "print(words[:100])"
   ]
  },
  {
   "cell_type": "code",
   "execution_count": 8,
   "id": "infectious-result",
   "metadata": {},
   "outputs": [],
   "source": [
    "quotes = annotations_df[\"annotated_quote\"][0]"
   ]
  },
  {
   "cell_type": "code",
   "execution_count": 9,
   "id": "former-rhythm",
   "metadata": {},
   "outputs": [
    {
     "name": "stdout",
     "output_type": "stream",
     "text": [
      "['Tongue-tied', ',', 'our', 'queen', '?', 'Speak', 'you', '.']\n"
     ]
    }
   ],
   "source": [
    "# split into words\n",
    "quote_tokens = word_tokenize(quotes)\n",
    "print(quote_tokens[:100])"
   ]
  },
  {
   "cell_type": "code",
   "execution_count": 10,
   "id": "lonely-corps",
   "metadata": {},
   "outputs": [
    {
     "name": "stdout",
     "output_type": "stream",
     "text": [
      "['our', 'queen', 'Speak', 'you']\n"
     ]
    }
   ],
   "source": [
    "# remove all tokens that are not alphabetic\n",
    "quote_words = [word for word in quote_tokens if word.isalpha()]\n",
    "print(quote_words[:100])"
   ]
  },
  {
   "cell_type": "code",
   "execution_count": 11,
   "id": "worthy-activity",
   "metadata": {},
   "outputs": [
    {
     "name": "stdout",
     "output_type": "stream",
     "text": [
      "Tongue-tied, our queen?\n",
      "  Speak you.\n"
     ]
    }
   ],
   "source": [
    "for quote in quotes: \n",
    "    quote.replace(\"\\r\", \"\")\n",
    "    quote.replace(\"\\n\", \"\")\n",
    "    quote.replace(\"\\\\\", \"\")\n",
    "    quote.replace(\"xa0\", \"\")\n",
    "\n",
    "print(quotes)"
   ]
  },
  {
   "cell_type": "code",
   "execution_count": 12,
   "id": "standard-princess",
   "metadata": {},
   "outputs": [],
   "source": [
    "annotations_df[\"annotation_text\"][0] = annotations"
   ]
  },
  {
   "cell_type": "code",
   "execution_count": 13,
   "id": "nominated-welcome",
   "metadata": {},
   "outputs": [],
   "source": [
    "annotations_df[\"annotated_quote\"][0] = quotes"
   ]
  },
  {
   "cell_type": "code",
   "execution_count": 14,
   "id": "effective-generic",
   "metadata": {},
   "outputs": [
    {
     "data": {
      "text/html": [
       "<div>\n",
       "<style scoped>\n",
       "    .dataframe tbody tr th:only-of-type {\n",
       "        vertical-align: middle;\n",
       "    }\n",
       "\n",
       "    .dataframe tbody tr th {\n",
       "        vertical-align: top;\n",
       "    }\n",
       "\n",
       "    .dataframe thead th {\n",
       "        text-align: right;\n",
       "    }\n",
       "</style>\n",
       "<table border=\"1\" class=\"dataframe\">\n",
       "  <thead>\n",
       "    <tr style=\"text-align: right;\">\n",
       "      <th></th>\n",
       "      <th>annotation_text</th>\n",
       "      <th>annotated_quote</th>\n",
       "      <th>annotation_location</th>\n",
       "      <th>category</th>\n",
       "    </tr>\n",
       "  </thead>\n",
       "  <tbody>\n",
       "    <tr>\n",
       "      <th>0</th>\n",
       "      <td>Hermione providing aid to her King and husband...</td>\n",
       "      <td>Tongue-tied, our queen?\\n  Speak you.</td>\n",
       "      <td>Act 1 Scene 2</td>\n",
       "      <td>Gender</td>\n",
       "    </tr>\n",
       "    <tr>\n",
       "      <th>1</th>\n",
       "      <td>Everyone is playing, but Leontes is the only o...</td>\n",
       "      <td>Go play, boy, play. Thy mother plays, and I \\n...</td>\n",
       "      <td>Act 1 Scene 2</td>\n",
       "      <td>None</td>\n",
       "    </tr>\n",
       "    <tr>\n",
       "      <th>2</th>\n",
       "      <td>I thought it was strange how Leontes asks Mami...</td>\n",
       "      <td>Mamillius,\\n  Art thou my boy?</td>\n",
       "      <td>Act 1 Scene 2</td>\n",
       "      <td>Class</td>\n",
       "    </tr>\n",
       "    <tr>\n",
       "      <th>3</th>\n",
       "      <td>It's the giving of hands that leads to the pla...</td>\n",
       "      <td>Give me that hand of yours to kiss.</td>\n",
       "      <td>Act 5 Scene 3</td>\n",
       "      <td>Class</td>\n",
       "    </tr>\n",
       "    <tr>\n",
       "      <th>4</th>\n",
       "      <td>I think this line is very important. Leontes i...</td>\n",
       "      <td>You kill her double</td>\n",
       "      <td>Act 5 Scene 3</td>\n",
       "      <td>Gender</td>\n",
       "    </tr>\n",
       "    <tr>\n",
       "      <th>...</th>\n",
       "      <td>...</td>\n",
       "      <td>...</td>\n",
       "      <td>...</td>\n",
       "      <td>...</td>\n",
       "    </tr>\n",
       "    <tr>\n",
       "      <th>893</th>\n",
       "      <td>This reminds me of Trump claiming \"falsehoods\"...</td>\n",
       "      <td>This is mere falsehood</td>\n",
       "      <td>Act 3 Scene 2</td>\n",
       "      <td>None</td>\n",
       "    </tr>\n",
       "    <tr>\n",
       "      <th>894</th>\n",
       "      <td>I can't read the word \"goodly\" without also se...</td>\n",
       "      <td>“She is a goodly lady,”</td>\n",
       "      <td>Act 2 Scene 1</td>\n",
       "      <td>None</td>\n",
       "    </tr>\n",
       "    <tr>\n",
       "      <th>895</th>\n",
       "      <td>This reminds me of Trump claiming \"falsehoods\"...</td>\n",
       "      <td>This is mere falsehood.</td>\n",
       "      <td>Act 3 Scene 2</td>\n",
       "      <td>Pandemics</td>\n",
       "    </tr>\n",
       "    <tr>\n",
       "      <th>896</th>\n",
       "      <td>The moon</td>\n",
       "      <td>the wat’ry star</td>\n",
       "      <td>Act 1 Scene 2</td>\n",
       "      <td>None</td>\n",
       "    </tr>\n",
       "    <tr>\n",
       "      <th>897</th>\n",
       "      <td>Although the two kings are bff's, the play set...</td>\n",
       "      <td>great\\n  difference betwixt our Bohemia and yo...</td>\n",
       "      <td>Act 1 Scene 1</td>\n",
       "      <td>Pandemics</td>\n",
       "    </tr>\n",
       "  </tbody>\n",
       "</table>\n",
       "<p>898 rows × 4 columns</p>\n",
       "</div>"
      ],
      "text/plain": [
       "                                       annotation_text  \\\n",
       "0    Hermione providing aid to her King and husband...   \n",
       "1    Everyone is playing, but Leontes is the only o...   \n",
       "2    I thought it was strange how Leontes asks Mami...   \n",
       "3    It's the giving of hands that leads to the pla...   \n",
       "4    I think this line is very important. Leontes i...   \n",
       "..                                                 ...   \n",
       "893  This reminds me of Trump claiming \"falsehoods\"...   \n",
       "894  I can't read the word \"goodly\" without also se...   \n",
       "895  This reminds me of Trump claiming \"falsehoods\"...   \n",
       "896                                           The moon   \n",
       "897  Although the two kings are bff's, the play set...   \n",
       "\n",
       "                                       annotated_quote annotation_location  \\\n",
       "0                Tongue-tied, our queen?\\n  Speak you.       Act 1 Scene 2   \n",
       "1    Go play, boy, play. Thy mother plays, and I \\n...       Act 1 Scene 2   \n",
       "2                       Mamillius,\\n  Art thou my boy?       Act 1 Scene 2   \n",
       "3                  Give me that hand of yours to kiss.       Act 5 Scene 3   \n",
       "4                                  You kill her double       Act 5 Scene 3   \n",
       "..                                                 ...                 ...   \n",
       "893                             This is mere falsehood       Act 3 Scene 2   \n",
       "894                            “She is a goodly lady,”       Act 2 Scene 1   \n",
       "895                            This is mere falsehood.       Act 3 Scene 2   \n",
       "896                                    the wat’ry star       Act 1 Scene 2   \n",
       "897  great\\n  difference betwixt our Bohemia and yo...       Act 1 Scene 1   \n",
       "\n",
       "      category  \n",
       "0       Gender  \n",
       "1         None  \n",
       "2        Class  \n",
       "3        Class  \n",
       "4       Gender  \n",
       "..         ...  \n",
       "893       None  \n",
       "894       None  \n",
       "895  Pandemics  \n",
       "896       None  \n",
       "897  Pandemics  \n",
       "\n",
       "[898 rows x 4 columns]"
      ]
     },
     "execution_count": 14,
     "metadata": {},
     "output_type": "execute_result"
    }
   ],
   "source": [
    "annotations_df"
   ]
  },
  {
   "cell_type": "code",
   "execution_count": 15,
   "id": "premium-cyprus",
   "metadata": {},
   "outputs": [],
   "source": [
    "annotations_df.to_csv('ps_dataset1_cleaned.csv',index=False)"
   ]
  }
 ],
 "metadata": {
  "kernelspec": {
   "display_name": "Python 3",
   "language": "python",
   "name": "python3"
  },
  "language_info": {
   "codemirror_mode": {
    "name": "ipython",
    "version": 3
   },
   "file_extension": ".py",
   "mimetype": "text/x-python",
   "name": "python",
   "nbconvert_exporter": "python",
   "pygments_lexer": "ipython3",
   "version": "3.9.1"
  }
 },
 "nbformat": 4,
 "nbformat_minor": 5
}
